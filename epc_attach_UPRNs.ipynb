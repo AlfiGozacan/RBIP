{
 "cells": [
  {
   "cell_type": "code",
   "execution_count": null,
   "metadata": {},
   "outputs": [],
   "source": [
    "import pyodbc\n",
    "import pandas as pd\n",
    "from fuzzywuzzy import fuzz\n",
    "from tqdm import tqdm\n",
    "import numpy as np"
   ]
  },
  {
   "cell_type": "code",
   "execution_count": null,
   "metadata": {},
   "outputs": [],
   "source": [
    "server = \".............\"\n",
    "database = \".............\"\n",
    "\n",
    "cnxn = pyodbc.connect(\"DRIVER={SQL Server};SERVER=\"+server+\";DATABASE=\"+database)\n",
    "cursor = cnxn.cursor()\n",
    "\n",
    "query = \"select * from ADDRESS_GAZ where PREMISE_DESCRIPTION like 'Commercial%'\"\n",
    "\n",
    "address_df = pd.read_sql(query, cnxn)"
   ]
  },
  {
   "cell_type": "code",
   "execution_count": null,
   "metadata": {},
   "outputs": [],
   "source": [
    "print(f\"This dataframe has {len(address_df)} entries\")"
   ]
  },
  {
   "cell_type": "code",
   "execution_count": null,
   "metadata": {},
   "outputs": [],
   "source": [
    "address_strings = []\n",
    "\n",
    "for i in range(len(address_df)):\n",
    "\n",
    "    string = \" \".join(thing for thing in address_df.iloc[i, 5:10])\n",
    "\n",
    "    address_strings.append(string)"
   ]
  },
  {
   "cell_type": "code",
   "execution_count": null,
   "metadata": {},
   "outputs": [],
   "source": [
    "file_path = \"C:\\\\Users\\\\agozacan\\\\OneDrive - Humberside Fire and Rescue Service\\\\RBIP Project\\\\EPC Data\"\n",
    "\n",
    "epc_df = pd.read_csv(file_path+\"\\\\combined_epc_data.csv\")"
   ]
  },
  {
   "cell_type": "code",
   "execution_count": null,
   "metadata": {},
   "outputs": [],
   "source": [
    "epc_df.replace(np.nan, \"\", inplace=True)"
   ]
  },
  {
   "cell_type": "code",
   "execution_count": null,
   "metadata": {},
   "outputs": [],
   "source": [
    "epc_strings = []\n",
    "\n",
    "for i in range(len(epc_df)):\n",
    "\n",
    "    string = \" \".join(thing for thing in epc_df.iloc[i, 2:5])\n",
    "\n",
    "    epc_strings.append(string)"
   ]
  },
  {
   "cell_type": "code",
   "execution_count": null,
   "metadata": {},
   "outputs": [],
   "source": [
    "matching_indices = []\n",
    "\n",
    "for i in tqdm(range(len(epc_strings))):\n",
    "\n",
    "    fuzz_ratios = []\n",
    "\n",
    "    for j in range(len(address_strings)):\n",
    "\n",
    "        if epc_strings[i][-8:] == address_strings[j][-8:]:\n",
    "\n",
    "            fuzz_ratios.append(fuzz.token_set_ratio(epc_strings[i], address_strings[j]))\n",
    "\n",
    "        else:\n",
    "\n",
    "            fuzz_ratios.append(0)\n",
    "\n",
    "    index = fuzz_ratios.index(max(fuzz_ratios))\n",
    "\n",
    "    matching_indices.append(index)"
   ]
  },
  {
   "cell_type": "code",
   "execution_count": null,
   "metadata": {},
   "outputs": [],
   "source": [
    "epc_df.insert(0, \"UPRN\", list(address_df.iloc[matching_indices, 1]))"
   ]
  },
  {
   "cell_type": "code",
   "execution_count": null,
   "metadata": {},
   "outputs": [],
   "source": [
    "for i in range(len(epc_df)):\n",
    "\n",
    "    if epc_df.UPRN[i] == 100052200498.0:\n",
    "\n",
    "        epc_df.UPRN[i] = \"\""
   ]
  },
  {
   "cell_type": "code",
   "execution_count": null,
   "metadata": {},
   "outputs": [],
   "source": [
    "epc_df.to_csv(\"epc_UPRN.csv\", index=False)"
   ]
  }
 ],
 "metadata": {
  "interpreter": {
   "hash": "14eabb916c6544ec72073d369246e9786cf732268ebd379f4cd554d89eecb526"
  },
  "kernelspec": {
   "display_name": "Python 3.9.6 64-bit",
   "name": "python3"
  },
  "language_info": {
   "codemirror_mode": {
    "name": "ipython",
    "version": 3
   },
   "file_extension": ".py",
   "mimetype": "text/x-python",
   "name": "python",
   "nbconvert_exporter": "python",
   "pygments_lexer": "ipython3",
   "version": "3.9.6"
  },
  "orig_nbformat": 4
 },
 "nbformat": 4,
 "nbformat_minor": 2
}
