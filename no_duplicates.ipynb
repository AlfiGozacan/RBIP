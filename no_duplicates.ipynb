{
 "cells": [
  {
   "cell_type": "code",
   "execution_count": null,
   "source": [
    "import pandas as pd\r\n",
    "import numpy as np\r\n",
    "from scipy import stats"
   ],
   "outputs": [],
   "metadata": {}
  },
  {
   "cell_type": "code",
   "execution_count": null,
   "source": [
    "file_path = \"C:\\\\Users\\\\agozacan\\\\OneDrive - Humberside Fire and Rescue Service\\\\RBIP Project\\\\EPC Data\"\r\n",
    "\r\n",
    "df = pd.read_csv(file_path+\"\\\\epc_UPRN.csv\")"
   ],
   "outputs": [],
   "metadata": {}
  },
  {
   "cell_type": "code",
   "execution_count": null,
   "source": [
    "df.drop(df.index[df.UPRN.isnull()].tolist(), axis=0, inplace=True)"
   ],
   "outputs": [],
   "metadata": {}
  },
  {
   "cell_type": "code",
   "execution_count": null,
   "source": [
    "duplicate_UPRNs = df.UPRN.value_counts().rename_axis(\"UNIQUE_UPRN\").reset_index(name=\"COUNT\")\r\n",
    "\r\n",
    "duplicate_UPRNs.drop(duplicate_UPRNs.index[duplicate_UPRNs.COUNT == 1].tolist(), axis=0, inplace=True)"
   ],
   "outputs": [],
   "metadata": {}
  },
  {
   "cell_type": "code",
   "execution_count": null,
   "source": [
    "for i in range(len(duplicate_UPRNs)):\r\n",
    "\r\n",
    "    sub_df = df[df.UPRN == duplicate_UPRNs.iloc[i,0]]\r\n",
    "\r\n",
    "    new_entry = sub_df.iloc[0].copy()\r\n",
    "\r\n",
    "    new_entry[\"ASSET_RATING\"] = np.mean(sub_df[\"ASSET_RATING\"])\r\n",
    "\r\n",
    "    new_entry[\"ASSET_RATING_BAND\"] = stats.mode(sub_df[\"ASSET_RATING_BAND\"])[0][0]\r\n",
    "\r\n",
    "    df.drop(sub_df.index.tolist(), axis=0, inplace=True)\r\n",
    "\r\n",
    "    df.loc[sub_df.index.tolist()[0]] = new_entry"
   ],
   "outputs": [],
   "metadata": {}
  },
  {
   "cell_type": "code",
   "execution_count": null,
   "source": [
    "df.sort_index(inplace=True)"
   ],
   "outputs": [],
   "metadata": {}
  },
  {
   "cell_type": "code",
   "execution_count": 42,
   "source": [
    "df.to_csv(file_path+\"\\\\epc_UPRN_nodups.csv\", index=False)"
   ],
   "outputs": [],
   "metadata": {}
  }
 ],
 "metadata": {
  "orig_nbformat": 4,
  "language_info": {
   "name": "python",
   "version": "3.9.6",
   "mimetype": "text/x-python",
   "codemirror_mode": {
    "name": "ipython",
    "version": 3
   },
   "pygments_lexer": "ipython3",
   "nbconvert_exporter": "python",
   "file_extension": ".py"
  },
  "kernelspec": {
   "name": "python3",
   "display_name": "Python 3.9.6 64-bit"
  },
  "interpreter": {
   "hash": "14eabb916c6544ec72073d369246e9786cf732268ebd379f4cd554d89eecb526"
  }
 },
 "nbformat": 4,
 "nbformat_minor": 2
}